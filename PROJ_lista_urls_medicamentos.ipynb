{
  "nbformat": 4,
  "nbformat_minor": 0,
  "metadata": {
    "colab": {
      "name": "PROJ_lista_urls_medicamentos.ipynb",
      "provenance": [],
      "collapsed_sections": [],
      "authorship_tag": "ABX9TyPxhiy3+IC5UZ7yFOjNJ6yD",
      "include_colab_link": true
    },
    "kernelspec": {
      "name": "python3",
      "display_name": "Python 3"
    },
    "language_info": {
      "name": "python"
    }
  },
  "cells": [
    {
      "cell_type": "markdown",
      "metadata": {
        "id": "view-in-github",
        "colab_type": "text"
      },
      "source": [
        "<a href=\"https://colab.research.google.com/github/leticiabac/TCC-BI_MASTER/blob/main/PROJ_lista_urls_medicamentos.ipynb\" target=\"_parent\"><img src=\"https://colab.research.google.com/assets/colab-badge.svg\" alt=\"Open In Colab\"/></a>"
      ]
    },
    {
      "cell_type": "markdown",
      "metadata": {
        "id": "3_h6o-KJeVVE"
      },
      "source": [
        "#Importação de bibliotecas utilizadas"
      ]
    },
    {
      "cell_type": "code",
      "metadata": {
        "id": "x2KpJ6SpNcUD"
      },
      "source": [
        "from googlesearch import search\n",
        "from datetime import datetime\n",
        "import pandas as pd\n",
        "import time\n",
        "import re\n",
        "import random"
      ],
      "execution_count": 1,
      "outputs": []
    },
    {
      "cell_type": "markdown",
      "metadata": {
        "id": "2tXKyANPdVS0"
      },
      "source": [
        "# Lista de Medicamentos Buscados\n",
        "\n",
        "Define a lista de medicamentos que serão buscados.\n",
        "\n"
      ]
    },
    {
      "cell_type": "code",
      "metadata": {
        "id": "SAyXWXKsdtbI"
      },
      "source": [
        "medicamentos = [\n",
        "                \"Puran T4 75mcg 30 comprimidos\",\n",
        "                \"Puran T4 88 mcg 30 comprimidos\",\n",
        "                \"Addera d3 7000 UI 4 comprimidos\",\n",
        "                \"Addera d3 7000 UI 10 comprimidos\",\n",
        "                \"Addera d3 7000 UI 30 comprimidos\",\n",
        "                \"Xigduo XR 10mg/1000mg 30 comprimidos\",\n",
        "                \"Livalo 2mg 30 comprimidos\",\n",
        "                \"Milgamma 150mg 30 comprimidos\",\n",
        "                \"Nesina pio 25mg + 30mg 30 comprimidos\",\n",
        "                \"Ganfort 3ml\",\n",
        "                \"Ganfort 5ml\",\n",
        "                \"Symbicort Spray 6/100 mcg 120 doses\"\n",
        "]"
      ],
      "execution_count": 2,
      "outputs": []
    },
    {
      "cell_type": "markdown",
      "metadata": {
        "id": "3IEqwXlc3sVZ"
      },
      "source": [
        "# Lista de Sites Consultados\n",
        "A seguir é criada a lista de sites de farmácias onde os preços serão consultados.\n",
        "\n",
        "Previamente, a estrutura das páginas html de cada site foi analisada e foi mapeada uma expressão que retorna o valor do preço apresentado na página. Para coleta das informações das páginas será utilizado o framewrok Selenium Webdriver, originalmente criado para realização de testes simulando o comportamento de aplicações em navegadores. "
      ]
    },
    {
      "cell_type": "code",
      "metadata": {
        "id": "c-sL-4uWOm5N"
      },
      "source": [
        "# Cria dicionario de Expressoes de Busca por site (\"site\":\"expressao de busca de preço na página\")\n",
        "dict_expressoes_preco = {}\n",
        "\n",
        "\n",
        "# Drogaria Venancio\n",
        "site = \"www.drogariavenancio.com.br\"\n",
        "expressao = \"wd.find_element_by_xpath('//*[@id=\\\"price-component\\\"]/div/div[1]/div/div/div/div/div/p/strong').text[3:]\"\n",
        "dict_expressoes_preco[site] = expressao\n",
        "\n",
        "# Drogaraia\n",
        "site = \"www.drogaraia.com.br\"\n",
        "expressao = \"wd.find_element_by_xpath('/html/body/div[13]/div/div[4]/div/div[4]/div[1]/div[2]/div/form/div[2]/div[2]/div/div[3]/div/div/label/div/div/span/p[2]/span/span[2]').text\"\n",
        "dict_expressoes_preco[site] = expressao\n",
        "\n",
        "# Pague Menos\n",
        "site = \"www.paguemenos.com.br\"\n",
        "expressao = \"wd.find_element_by_xpath('/html/body/div[2]/div/div[1]/div/div/div/div[3]/div/div[2]/div[1]/section/div/div[3]/div/div[2]/div/div/div[1]/div/div[2]/div/div[2]/span/span/span[3]').text + ',' + wd.find_element_by_xpath('/html/body/div[2]/div/div[1]/div/div/div/div[3]/div/div[2]/div[1]/section/div/div[3]/div/div[2]/div/div/div[1]/div/div[2]/div/div[2]/span/span/span[5]').text\"\n",
        "dict_expressoes_preco[site] = expressao\n",
        "\n",
        "# Drogaria Pacheco\n",
        "site = \"www.drogariaspacheco.com.br\"\n",
        "expressao = \"wd.find_element_by_xpath('//*[@id=\\\"inicio-conteudo\\\"]/div[1]/div/div/div[4]/div/div[1]/div[3]/div/p[1]/em[1]/strong').text[4:]\"\n",
        "dict_expressoes_preco[site] = expressao\n",
        "\n",
        "# Farmadelivery\n",
        "site = \"www.farmadelivery.com.br\"\n",
        "expressao = \"wd.find_element_by_xpath('/html/body/div[2]/div/div[6]/div/div[2]/div[5]/div[1]/form/div[4]/div[1]/div[2]/div[1]/p[2]/span[2]').text[3:]\"\n",
        "dict_expressoes_preco[site] = expressao\n"
      ],
      "execution_count": 3,
      "outputs": []
    },
    {
      "cell_type": "markdown",
      "metadata": {
        "id": "V--JwPGAix2l"
      },
      "source": [
        "# Busca URLs"
      ]
    },
    {
      "cell_type": "code",
      "metadata": {
        "id": "Pusuh6MbfDsl",
        "colab": {
          "base_uri": "https://localhost:8080/"
        },
        "outputId": "fdd6b11b-946c-468f-d20c-2ed2680a4507"
      },
      "source": [
        "# Inicia array de urls\n",
        "urls = []\n",
        "\n",
        "# Procura cada medicamento em cada um dos sites\n",
        "t_sleep = 1.0\n",
        "for medicamento in medicamentos:\n",
        "  for site in dict_expressoes_preco:\n",
        "    query = medicamento + \" site:\" + site\n",
        "    url = list(search(query, start = 0, stop = 1, pause = 2.0))[0]  # armazena o primeiro resultado da busca\n",
        "\n",
        "    # valida a url encontrada (verifica se contem os numeros de dosagem e quantidade buscados)\n",
        "    numeros_busca = re.sub(\"[^0-9]\", \" \", medicamento).split()\n",
        "    numeros_resultado = re.sub(\"[^0-9]\", \" \", url.replace(\"-000\",\"000\")).split()\n",
        "    if not all(x in numeros_resultado for x in numeros_busca):\n",
        "      url = \"ND\"\n",
        "\n",
        "    urls.append([medicamento,url])\n",
        "    t_sleep = t_sleep + 1.0 + (random.randint(0, 1000) / 1000)\n",
        "    time.sleep(t_sleep)\n",
        "    \n",
        "\n",
        "print(urls)\n",
        "\n"
      ],
      "execution_count": 4,
      "outputs": [
        {
          "output_type": "stream",
          "name": "stdout",
          "text": [
            "[['Puran T4 75mcg 30 comprimidos', 'https://www.drogariavenancio.com.br/Puran-T4-75mcg-Sanofi-Aventis-30-Comprimidos/p'], ['Puran T4 75mcg 30 comprimidos', 'https://www.drogaraia.com.br/puran-t4-75-mcg-uso-oral-30-comprimidos.html'], ['Puran T4 75mcg 30 comprimidos', 'https://www.paguemenos.com.br/puran-t4-75mcg-com-30-comprimidos/p'], ['Puran T4 75mcg 30 comprimidos', 'https://www.drogariaspacheco.com.br/puran-t4-75mcg-30-comprimidos/p'], ['Puran T4 75mcg 30 comprimidos', 'https://www.farmadelivery.com.br/puran-t4-75mcg-c-30-comprimidos'], ['Puran T4 88 mcg 30 comprimidos', 'https://www.drogariavenancio.com.br/puran-t4-88mcg-sanofi-aventis-30-comprimidos/p'], ['Puran T4 88 mcg 30 comprimidos', 'https://www.drogaraia.com.br/puran-t4-88mcg-30-comprimidos.html'], ['Puran T4 88 mcg 30 comprimidos', 'ND'], ['Puran T4 88 mcg 30 comprimidos', 'https://www.drogariaspacheco.com.br/puran-t4-88mcg-sanofi-aventis-30-comprimidos/p'], ['Puran T4 88 mcg 30 comprimidos', 'https://www.farmadelivery.com.br/puran-t4-88mcg-c-30-comprimidos'], ['Addera d3 7000 UI 4 comprimidos', 'https://www.drogariavenancio.com.br/Addera-D3-7-000ui-Hypera-4-Comprimidos-Revestidos/p'], ['Addera d3 7000 UI 4 comprimidos', 'https://www.drogaraia.com.br/addera-d3-7000-ui-1-blister-com-4-comprimidos.html'], ['Addera d3 7000 UI 4 comprimidos', 'https://www.paguemenos.com.br/addera-d3-7000ui-com-4-comprimidos/p'], ['Addera d3 7000 UI 4 comprimidos', 'https://www.drogariaspacheco.com.br/addera-d3-7000ui-mantecorp-farmasa-4-comprimidos/p'], ['Addera d3 7000 UI 4 comprimidos', 'https://www.farmadelivery.com.br/addera-d3-7000ui-c-4-comprimidos'], ['Addera d3 7000 UI 10 comprimidos', 'https://www.drogariavenancio.com.br/Addera-D3-7-000ui-Hypera-10-Comprimidos-Revestidos/p'], ['Addera d3 7000 UI 10 comprimidos', 'https://www.drogaraia.com.br/addera-d3-7000-ui-10-comprimidos-revestidos.html'], ['Addera d3 7000 UI 10 comprimidos', 'https://www.paguemenos.com.br/addera-d3-7000-ui-com-10-comprimidos/p'], ['Addera d3 7000 UI 10 comprimidos', 'ND'], ['Addera d3 7000 UI 10 comprimidos', 'https://www.farmadelivery.com.br/addera-d3-7000ui-c-10-comprimidos'], ['Addera d3 7000 UI 30 comprimidos', 'https://www.drogariavenancio.com.br/Addera-D3-7-000ui-Hypera-30-Comprimidos-Revestidos/p'], ['Addera d3 7000 UI 30 comprimidos', 'https://www.drogaraia.com.br/addera-d3-7-000ui-30-comprimidos.html'], ['Addera d3 7000 UI 30 comprimidos', 'https://www.paguemenos.com.br/addera-d3-7-000-ui-com-30-comprimidos/p'], ['Addera d3 7000 UI 30 comprimidos', 'https://www.drogariaspacheco.com.br/addera-d3-7000ui-30-comprimidos-revestidos-hypermarcas/p'], ['Addera d3 7000 UI 30 comprimidos', 'https://www.farmadelivery.com.br/addera-d3-7000ui-c-30-comprimidos'], ['Xigduo XR 10mg/1000mg 30 comprimidos', 'https://www.drogariavenancio.com.br/xigduo-xr-10mg---1000mg-astrazeneca-30-comprimidos-de-liberacao-prolongada/p'], ['Xigduo XR 10mg/1000mg 30 comprimidos', 'https://www.drogaraia.com.br/xigduo-xr-10-1000mg-30-comprimidos-de-liberacao-prolongada.html'], ['Xigduo XR 10mg/1000mg 30 comprimidos', 'https://www.paguemenos.com.br/xigduo-xr-10mg-1000mg-com-30-comprimidos/p'], ['Xigduo XR 10mg/1000mg 30 comprimidos', 'https://www.drogariaspacheco.com.br/xigduo-xr-10-mg-1000-mg-30-comprimidos-astrazeneca/p'], ['Xigduo XR 10mg/1000mg 30 comprimidos', 'https://www.farmadelivery.com.br/xigduo-xr-10mg-1000mg-c-30-comprimidos'], ['Livalo 2mg 30 comprimidos', 'https://www.drogariavenancio.com.br/livalo-2mg-biolab-30-comprimidos-revestidos/p'], ['Livalo 2mg 30 comprimidos', 'https://www.drogaraia.com.br/livalo-2mg-com-30-comprimidos-revestidos.html'], ['Livalo 2mg 30 comprimidos', 'https://www.paguemenos.com.br/livalo-2mg-com-30-comprimidos/p'], ['Livalo 2mg 30 comprimidos', 'https://www.drogariaspacheco.com.br/livalo-2mg-biolab-30-comprimidos-revestidos/p'], ['Livalo 2mg 30 comprimidos', 'https://www.farmadelivery.com.br/livalo-2mg-c-30-comprimidos'], ['Milgamma 150mg 30 comprimidos', 'https://www.drogariavenancio.com.br/milgamma-150-mg-farmasa-30-drageas/p'], ['Milgamma 150mg 30 comprimidos', 'https://www.drogaraia.com.br/milgamma-150mg-com-30-drageas.html'], ['Milgamma 150mg 30 comprimidos', 'https://www.paguemenos.com.br/milgamma-150mg-com-30-drageas/p'], ['Milgamma 150mg 30 comprimidos', 'https://www.drogariaspacheco.com.br/milgamma-150mg-mantecorp-farmasa-30-drageas/p'], ['Milgamma 150mg 30 comprimidos', 'https://www.farmadelivery.com.br/milgamma-150mg-c-30-drageas'], ['Nesina pio 25mg + 30mg 30 comprimidos', 'https://www.drogariavenancio.com.br/nesina-pio-25mg---30mg-takeda-30-comprimidos-revestidos/p'], ['Nesina pio 25mg + 30mg 30 comprimidos', 'https://www.drogaraia.com.br/nesina-pio-25-30mg-30-comprimidos-revestidos.html'], ['Nesina pio 25mg + 30mg 30 comprimidos', 'https://www.paguemenos.com.br/nesina-pio-25mgmais30mg-com-30-comprimidos/p'], ['Nesina pio 25mg + 30mg 30 comprimidos', 'https://www.drogariaspacheco.com.br/nesina-pio-25mg-30mg-takeda-30-comprimidos-revestidos/p'], ['Nesina pio 25mg + 30mg 30 comprimidos', 'https://www.farmadelivery.com.br/nesina-pio-25mg-30mg-c-30-comprimidos'], ['Ganfort 3ml', 'https://www.drogariavenancio.com.br/ganfort-allergan-3ml-suspensao-oftalmica-esteril/p'], ['Ganfort 3ml', 'https://www.drogaraia.com.br/ganfort-solucao-esteril-3-ml.html'], ['Ganfort 3ml', 'https://www.paguemenos.com.br/ganfort-colirio-3ml/p'], ['Ganfort 3ml', 'https://www.drogariaspacheco.com.br/ganfort-solucao-esteril-allergan-3ml/p'], ['Ganfort 3ml', 'https://www.farmadelivery.com.br/ganfort-soluc-o-oftalmica-colirio-3ml'], ['Ganfort 5ml', 'https://www.drogariavenancio.com.br/ganfort-allergan-5ml-suspensao-oftalmica-esteril/p'], ['Ganfort 5ml', 'https://www.drogaraia.com.br/ganfort-solucao-esteril-5-ml.html'], ['Ganfort 5ml', 'https://www.paguemenos.com.br/ganfort-solucao-esteril-5ml/p'], ['Ganfort 5ml', 'https://www.drogariaspacheco.com.br/ganfort-colirio-allergan-5ml/p'], ['Ganfort 5ml', 'https://www.farmadelivery.com.br/ganfort-soluc-o-oftalmica-colirio-5ml'], ['Symbicort Spray 6/100 mcg 120 doses', 'ND'], ['Symbicort Spray 6/100 mcg 120 doses', 'https://www.drogaraia.com.br/symbicort-spray-6-100-mcg-para-inalacao-120-doses.html'], ['Symbicort Spray 6/100 mcg 120 doses', 'ND'], ['Symbicort Spray 6/100 mcg 120 doses', 'https://www.drogariaspacheco.com.br/symbicort-spray-6-mcg-100-mcg-com-120-doses-astrazeneca/p'], ['Symbicort Spray 6/100 mcg 120 doses', 'ND']]\n"
          ]
        }
      ]
    },
    {
      "cell_type": "markdown",
      "metadata": {
        "id": "yaOnmp2z2hiA"
      },
      "source": [
        "Cria Pandas Dataframe"
      ]
    },
    {
      "cell_type": "code",
      "metadata": {
        "colab": {
          "base_uri": "https://localhost:8080/"
        },
        "id": "jSH8EocUgy79",
        "outputId": "e6e42e2f-84f4-4b54-8bd2-5dfe0f1c0c24"
      },
      "source": [
        "df_urls = pd.DataFrame(urls, columns =['Remedio','Url']) \n",
        "print(df_urls)"
      ],
      "execution_count": 5,
      "outputs": [
        {
          "output_type": "stream",
          "name": "stdout",
          "text": [
            "                                  Remedio                                                Url\n",
            "0           Puran T4 75mcg 30 comprimidos  https://www.drogariavenancio.com.br/Puran-T4-7...\n",
            "1           Puran T4 75mcg 30 comprimidos  https://www.drogaraia.com.br/puran-t4-75-mcg-u...\n",
            "2           Puran T4 75mcg 30 comprimidos  https://www.paguemenos.com.br/puran-t4-75mcg-c...\n",
            "3           Puran T4 75mcg 30 comprimidos  https://www.drogariaspacheco.com.br/puran-t4-7...\n",
            "4           Puran T4 75mcg 30 comprimidos  https://www.farmadelivery.com.br/puran-t4-75mc...\n",
            "5          Puran T4 88 mcg 30 comprimidos  https://www.drogariavenancio.com.br/puran-t4-8...\n",
            "6          Puran T4 88 mcg 30 comprimidos  https://www.drogaraia.com.br/puran-t4-88mcg-30...\n",
            "7          Puran T4 88 mcg 30 comprimidos                                                 ND\n",
            "8          Puran T4 88 mcg 30 comprimidos  https://www.drogariaspacheco.com.br/puran-t4-8...\n",
            "9          Puran T4 88 mcg 30 comprimidos  https://www.farmadelivery.com.br/puran-t4-88mc...\n",
            "10        Addera d3 7000 UI 4 comprimidos  https://www.drogariavenancio.com.br/Addera-D3-...\n",
            "11        Addera d3 7000 UI 4 comprimidos  https://www.drogaraia.com.br/addera-d3-7000-ui...\n",
            "12        Addera d3 7000 UI 4 comprimidos  https://www.paguemenos.com.br/addera-d3-7000ui...\n",
            "13        Addera d3 7000 UI 4 comprimidos  https://www.drogariaspacheco.com.br/addera-d3-...\n",
            "14        Addera d3 7000 UI 4 comprimidos  https://www.farmadelivery.com.br/addera-d3-700...\n",
            "15       Addera d3 7000 UI 10 comprimidos  https://www.drogariavenancio.com.br/Addera-D3-...\n",
            "16       Addera d3 7000 UI 10 comprimidos  https://www.drogaraia.com.br/addera-d3-7000-ui...\n",
            "17       Addera d3 7000 UI 10 comprimidos  https://www.paguemenos.com.br/addera-d3-7000-u...\n",
            "18       Addera d3 7000 UI 10 comprimidos                                                 ND\n",
            "19       Addera d3 7000 UI 10 comprimidos  https://www.farmadelivery.com.br/addera-d3-700...\n",
            "20       Addera d3 7000 UI 30 comprimidos  https://www.drogariavenancio.com.br/Addera-D3-...\n",
            "21       Addera d3 7000 UI 30 comprimidos  https://www.drogaraia.com.br/addera-d3-7-000ui...\n",
            "22       Addera d3 7000 UI 30 comprimidos  https://www.paguemenos.com.br/addera-d3-7-000-...\n",
            "23       Addera d3 7000 UI 30 comprimidos  https://www.drogariaspacheco.com.br/addera-d3-...\n",
            "24       Addera d3 7000 UI 30 comprimidos  https://www.farmadelivery.com.br/addera-d3-700...\n",
            "25   Xigduo XR 10mg/1000mg 30 comprimidos  https://www.drogariavenancio.com.br/xigduo-xr-...\n",
            "26   Xigduo XR 10mg/1000mg 30 comprimidos  https://www.drogaraia.com.br/xigduo-xr-10-1000...\n",
            "27   Xigduo XR 10mg/1000mg 30 comprimidos  https://www.paguemenos.com.br/xigduo-xr-10mg-1...\n",
            "28   Xigduo XR 10mg/1000mg 30 comprimidos  https://www.drogariaspacheco.com.br/xigduo-xr-...\n",
            "29   Xigduo XR 10mg/1000mg 30 comprimidos  https://www.farmadelivery.com.br/xigduo-xr-10m...\n",
            "30              Livalo 2mg 30 comprimidos  https://www.drogariavenancio.com.br/livalo-2mg...\n",
            "31              Livalo 2mg 30 comprimidos  https://www.drogaraia.com.br/livalo-2mg-com-30...\n",
            "32              Livalo 2mg 30 comprimidos  https://www.paguemenos.com.br/livalo-2mg-com-3...\n",
            "33              Livalo 2mg 30 comprimidos  https://www.drogariaspacheco.com.br/livalo-2mg...\n",
            "34              Livalo 2mg 30 comprimidos  https://www.farmadelivery.com.br/livalo-2mg-c-...\n",
            "35          Milgamma 150mg 30 comprimidos  https://www.drogariavenancio.com.br/milgamma-1...\n",
            "36          Milgamma 150mg 30 comprimidos  https://www.drogaraia.com.br/milgamma-150mg-co...\n",
            "37          Milgamma 150mg 30 comprimidos  https://www.paguemenos.com.br/milgamma-150mg-c...\n",
            "38          Milgamma 150mg 30 comprimidos  https://www.drogariaspacheco.com.br/milgamma-1...\n",
            "39          Milgamma 150mg 30 comprimidos  https://www.farmadelivery.com.br/milgamma-150m...\n",
            "40  Nesina pio 25mg + 30mg 30 comprimidos  https://www.drogariavenancio.com.br/nesina-pio...\n",
            "41  Nesina pio 25mg + 30mg 30 comprimidos  https://www.drogaraia.com.br/nesina-pio-25-30m...\n",
            "42  Nesina pio 25mg + 30mg 30 comprimidos  https://www.paguemenos.com.br/nesina-pio-25mgm...\n",
            "43  Nesina pio 25mg + 30mg 30 comprimidos  https://www.drogariaspacheco.com.br/nesina-pio...\n",
            "44  Nesina pio 25mg + 30mg 30 comprimidos  https://www.farmadelivery.com.br/nesina-pio-25...\n",
            "45                            Ganfort 3ml  https://www.drogariavenancio.com.br/ganfort-al...\n",
            "46                            Ganfort 3ml  https://www.drogaraia.com.br/ganfort-solucao-e...\n",
            "47                            Ganfort 3ml  https://www.paguemenos.com.br/ganfort-colirio-...\n",
            "48                            Ganfort 3ml  https://www.drogariaspacheco.com.br/ganfort-so...\n",
            "49                            Ganfort 3ml  https://www.farmadelivery.com.br/ganfort-soluc...\n",
            "50                            Ganfort 5ml  https://www.drogariavenancio.com.br/ganfort-al...\n",
            "51                            Ganfort 5ml  https://www.drogaraia.com.br/ganfort-solucao-e...\n",
            "52                            Ganfort 5ml  https://www.paguemenos.com.br/ganfort-solucao-...\n",
            "53                            Ganfort 5ml  https://www.drogariaspacheco.com.br/ganfort-co...\n",
            "54                            Ganfort 5ml  https://www.farmadelivery.com.br/ganfort-soluc...\n",
            "55    Symbicort Spray 6/100 mcg 120 doses                                                 ND\n",
            "56    Symbicort Spray 6/100 mcg 120 doses  https://www.drogaraia.com.br/symbicort-spray-6...\n",
            "57    Symbicort Spray 6/100 mcg 120 doses                                                 ND\n",
            "58    Symbicort Spray 6/100 mcg 120 doses  https://www.drogariaspacheco.com.br/symbicort-...\n",
            "59    Symbicort Spray 6/100 mcg 120 doses                                                 ND\n"
          ]
        }
      ]
    },
    {
      "cell_type": "markdown",
      "metadata": {
        "id": "jesihLdq3o9w"
      },
      "source": [
        "Salva em um arquivo (.csv)"
      ]
    },
    {
      "cell_type": "code",
      "metadata": {
        "id": "RvYNBzz_1kFU"
      },
      "source": [
        "data = datetime.now().strftime(\"%Y-%m-%d\")\n",
        "df_urls.to_csv('lista_URLs_' + data + '.csv')"
      ],
      "execution_count": 6,
      "outputs": []
    },
    {
      "cell_type": "code",
      "metadata": {
        "id": "VARRlk3s3mwI"
      },
      "source": [
        ""
      ],
      "execution_count": null,
      "outputs": []
    }
  ]
}