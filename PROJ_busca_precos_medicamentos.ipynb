{
  "nbformat": 4,
  "nbformat_minor": 0,
  "metadata": {
    "colab": {
      "name": "PROJ_busca_precos_medicamentos.ipynb",
      "provenance": [],
      "collapsed_sections": [],
      "authorship_tag": "ABX9TyOn/2VevM3iODY+Ukyd5vkv",
      "include_colab_link": true
    },
    "kernelspec": {
      "name": "python3",
      "display_name": "Python 3"
    },
    "language_info": {
      "name": "python"
    }
  },
  "cells": [
    {
      "cell_type": "markdown",
      "metadata": {
        "id": "view-in-github",
        "colab_type": "text"
      },
      "source": [
        "<a href=\"https://colab.research.google.com/github/leticiabac/TCC-BI_MASTER/blob/main/PROJ_busca_precos_medicamentos.ipynb\" target=\"_parent\"><img src=\"https://colab.research.google.com/assets/colab-badge.svg\" alt=\"Open In Colab\"/></a>"
      ]
    },
    {
      "cell_type": "markdown",
      "metadata": {
        "id": "3_h6o-KJeVVE"
      },
      "source": [
        "#Importação de bibliotecas utilizadas"
      ]
    },
    {
      "cell_type": "code",
      "metadata": {
        "id": "x2KpJ6SpNcUD",
        "colab": {
          "base_uri": "https://localhost:8080/"
        },
        "outputId": "d5096220-4438-4a97-f470-e7ed86c132bb"
      },
      "source": [
        "!pip install selenium\n",
        "!apt-get update # to update ubuntu to correctly run apt install\n",
        "!apt install chromium-chromedriver\n",
        "!cp /usr/lib/chromium-browser/chromedriver /usr/bin\n",
        "import sys\n",
        "sys.path.insert(0,'/usr/lib/chromium-browser/chromedriver')\n",
        "#from googlesearch import search\n",
        "from selenium import webdriver\n",
        "from datetime import datetime\n",
        "import pandas as pd\n",
        "import time"
      ],
      "execution_count": 1,
      "outputs": [
        {
          "output_type": "stream",
          "name": "stdout",
          "text": [
            "Collecting selenium\n",
            "  Downloading selenium-4.0.0-py3-none-any.whl (954 kB)\n",
            "\u001b[?25l\r\u001b[K     |▍                               | 10 kB 26.1 MB/s eta 0:00:01\r\u001b[K     |▊                               | 20 kB 22.7 MB/s eta 0:00:01\r\u001b[K     |█                               | 30 kB 11.9 MB/s eta 0:00:01\r\u001b[K     |█▍                              | 40 kB 9.2 MB/s eta 0:00:01\r\u001b[K     |█▊                              | 51 kB 5.1 MB/s eta 0:00:01\r\u001b[K     |██                              | 61 kB 5.7 MB/s eta 0:00:01\r\u001b[K     |██▍                             | 71 kB 5.4 MB/s eta 0:00:01\r\u001b[K     |██▊                             | 81 kB 6.1 MB/s eta 0:00:01\r\u001b[K     |███                             | 92 kB 4.7 MB/s eta 0:00:01\r\u001b[K     |███▍                            | 102 kB 5.1 MB/s eta 0:00:01\r\u001b[K     |███▊                            | 112 kB 5.1 MB/s eta 0:00:01\r\u001b[K     |████▏                           | 122 kB 5.1 MB/s eta 0:00:01\r\u001b[K     |████▌                           | 133 kB 5.1 MB/s eta 0:00:01\r\u001b[K     |████▉                           | 143 kB 5.1 MB/s eta 0:00:01\r\u001b[K     |█████▏                          | 153 kB 5.1 MB/s eta 0:00:01\r\u001b[K     |█████▌                          | 163 kB 5.1 MB/s eta 0:00:01\r\u001b[K     |█████▉                          | 174 kB 5.1 MB/s eta 0:00:01\r\u001b[K     |██████▏                         | 184 kB 5.1 MB/s eta 0:00:01\r\u001b[K     |██████▌                         | 194 kB 5.1 MB/s eta 0:00:01\r\u001b[K     |██████▉                         | 204 kB 5.1 MB/s eta 0:00:01\r\u001b[K     |███████▏                        | 215 kB 5.1 MB/s eta 0:00:01\r\u001b[K     |███████▌                        | 225 kB 5.1 MB/s eta 0:00:01\r\u001b[K     |████████                        | 235 kB 5.1 MB/s eta 0:00:01\r\u001b[K     |████████▎                       | 245 kB 5.1 MB/s eta 0:00:01\r\u001b[K     |████████▋                       | 256 kB 5.1 MB/s eta 0:00:01\r\u001b[K     |█████████                       | 266 kB 5.1 MB/s eta 0:00:01\r\u001b[K     |█████████▎                      | 276 kB 5.1 MB/s eta 0:00:01\r\u001b[K     |█████████▋                      | 286 kB 5.1 MB/s eta 0:00:01\r\u001b[K     |██████████                      | 296 kB 5.1 MB/s eta 0:00:01\r\u001b[K     |██████████▎                     | 307 kB 5.1 MB/s eta 0:00:01\r\u001b[K     |██████████▋                     | 317 kB 5.1 MB/s eta 0:00:01\r\u001b[K     |███████████                     | 327 kB 5.1 MB/s eta 0:00:01\r\u001b[K     |███████████▎                    | 337 kB 5.1 MB/s eta 0:00:01\r\u001b[K     |███████████▊                    | 348 kB 5.1 MB/s eta 0:00:01\r\u001b[K     |████████████                    | 358 kB 5.1 MB/s eta 0:00:01\r\u001b[K     |████████████▍                   | 368 kB 5.1 MB/s eta 0:00:01\r\u001b[K     |████████████▊                   | 378 kB 5.1 MB/s eta 0:00:01\r\u001b[K     |█████████████                   | 389 kB 5.1 MB/s eta 0:00:01\r\u001b[K     |█████████████▍                  | 399 kB 5.1 MB/s eta 0:00:01\r\u001b[K     |█████████████▊                  | 409 kB 5.1 MB/s eta 0:00:01\r\u001b[K     |██████████████                  | 419 kB 5.1 MB/s eta 0:00:01\r\u001b[K     |██████████████▍                 | 430 kB 5.1 MB/s eta 0:00:01\r\u001b[K     |██████████████▊                 | 440 kB 5.1 MB/s eta 0:00:01\r\u001b[K     |███████████████                 | 450 kB 5.1 MB/s eta 0:00:01\r\u001b[K     |███████████████▌                | 460 kB 5.1 MB/s eta 0:00:01\r\u001b[K     |███████████████▉                | 471 kB 5.1 MB/s eta 0:00:01\r\u001b[K     |████████████████▏               | 481 kB 5.1 MB/s eta 0:00:01\r\u001b[K     |████████████████▌               | 491 kB 5.1 MB/s eta 0:00:01\r\u001b[K     |████████████████▉               | 501 kB 5.1 MB/s eta 0:00:01\r\u001b[K     |█████████████████▏              | 512 kB 5.1 MB/s eta 0:00:01\r\u001b[K     |█████████████████▌              | 522 kB 5.1 MB/s eta 0:00:01\r\u001b[K     |█████████████████▉              | 532 kB 5.1 MB/s eta 0:00:01\r\u001b[K     |██████████████████▏             | 542 kB 5.1 MB/s eta 0:00:01\r\u001b[K     |██████████████████▌             | 552 kB 5.1 MB/s eta 0:00:01\r\u001b[K     |██████████████████▉             | 563 kB 5.1 MB/s eta 0:00:01\r\u001b[K     |███████████████████▎            | 573 kB 5.1 MB/s eta 0:00:01\r\u001b[K     |███████████████████▋            | 583 kB 5.1 MB/s eta 0:00:01\r\u001b[K     |████████████████████            | 593 kB 5.1 MB/s eta 0:00:01\r\u001b[K     |████████████████████▎           | 604 kB 5.1 MB/s eta 0:00:01\r\u001b[K     |████████████████████▋           | 614 kB 5.1 MB/s eta 0:00:01\r\u001b[K     |█████████████████████           | 624 kB 5.1 MB/s eta 0:00:01\r\u001b[K     |█████████████████████▎          | 634 kB 5.1 MB/s eta 0:00:01\r\u001b[K     |█████████████████████▋          | 645 kB 5.1 MB/s eta 0:00:01\r\u001b[K     |██████████████████████          | 655 kB 5.1 MB/s eta 0:00:01\r\u001b[K     |██████████████████████▎         | 665 kB 5.1 MB/s eta 0:00:01\r\u001b[K     |██████████████████████▋         | 675 kB 5.1 MB/s eta 0:00:01\r\u001b[K     |███████████████████████         | 686 kB 5.1 MB/s eta 0:00:01\r\u001b[K     |███████████████████████▍        | 696 kB 5.1 MB/s eta 0:00:01\r\u001b[K     |███████████████████████▊        | 706 kB 5.1 MB/s eta 0:00:01\r\u001b[K     |████████████████████████        | 716 kB 5.1 MB/s eta 0:00:01\r\u001b[K     |████████████████████████▍       | 727 kB 5.1 MB/s eta 0:00:01\r\u001b[K     |████████████████████████▊       | 737 kB 5.1 MB/s eta 0:00:01\r\u001b[K     |█████████████████████████       | 747 kB 5.1 MB/s eta 0:00:01\r\u001b[K     |█████████████████████████▍      | 757 kB 5.1 MB/s eta 0:00:01\r\u001b[K     |█████████████████████████▊      | 768 kB 5.1 MB/s eta 0:00:01\r\u001b[K     |██████████████████████████      | 778 kB 5.1 MB/s eta 0:00:01\r\u001b[K     |██████████████████████████▍     | 788 kB 5.1 MB/s eta 0:00:01\r\u001b[K     |██████████████████████████▉     | 798 kB 5.1 MB/s eta 0:00:01\r\u001b[K     |███████████████████████████▏    | 808 kB 5.1 MB/s eta 0:00:01\r\u001b[K     |███████████████████████████▌    | 819 kB 5.1 MB/s eta 0:00:01\r\u001b[K     |███████████████████████████▉    | 829 kB 5.1 MB/s eta 0:00:01\r\u001b[K     |████████████████████████████▏   | 839 kB 5.1 MB/s eta 0:00:01\r\u001b[K     |████████████████████████████▌   | 849 kB 5.1 MB/s eta 0:00:01\r\u001b[K     |████████████████████████████▉   | 860 kB 5.1 MB/s eta 0:00:01\r\u001b[K     |█████████████████████████████▏  | 870 kB 5.1 MB/s eta 0:00:01\r\u001b[K     |█████████████████████████████▌  | 880 kB 5.1 MB/s eta 0:00:01\r\u001b[K     |█████████████████████████████▉  | 890 kB 5.1 MB/s eta 0:00:01\r\u001b[K     |██████████████████████████████▏ | 901 kB 5.1 MB/s eta 0:00:01\r\u001b[K     |██████████████████████████████▋ | 911 kB 5.1 MB/s eta 0:00:01\r\u001b[K     |███████████████████████████████ | 921 kB 5.1 MB/s eta 0:00:01\r\u001b[K     |███████████████████████████████▎| 931 kB 5.1 MB/s eta 0:00:01\r\u001b[K     |███████████████████████████████▋| 942 kB 5.1 MB/s eta 0:00:01\r\u001b[K     |████████████████████████████████| 952 kB 5.1 MB/s eta 0:00:01\r\u001b[K     |████████████████████████████████| 954 kB 5.1 MB/s \n",
            "\u001b[?25hCollecting trio-websocket~=0.9\n",
            "  Downloading trio_websocket-0.9.2-py3-none-any.whl (16 kB)\n",
            "Collecting urllib3[secure]~=1.26\n",
            "  Downloading urllib3-1.26.7-py2.py3-none-any.whl (138 kB)\n",
            "\u001b[K     |████████████████████████████████| 138 kB 57.3 MB/s \n",
            "\u001b[?25hCollecting trio~=0.17\n",
            "  Downloading trio-0.19.0-py3-none-any.whl (356 kB)\n",
            "\u001b[K     |████████████████████████████████| 356 kB 57.5 MB/s \n",
            "\u001b[?25hRequirement already satisfied: idna in /usr/local/lib/python3.7/dist-packages (from trio~=0.17->selenium) (2.10)\n",
            "Requirement already satisfied: attrs>=19.2.0 in /usr/local/lib/python3.7/dist-packages (from trio~=0.17->selenium) (21.2.0)\n",
            "Requirement already satisfied: sortedcontainers in /usr/local/lib/python3.7/dist-packages (from trio~=0.17->selenium) (2.4.0)\n",
            "Collecting outcome\n",
            "  Downloading outcome-1.1.0-py2.py3-none-any.whl (9.7 kB)\n",
            "Collecting async-generator>=1.9\n",
            "  Downloading async_generator-1.10-py3-none-any.whl (18 kB)\n",
            "Collecting sniffio\n",
            "  Downloading sniffio-1.2.0-py3-none-any.whl (10 kB)\n",
            "Collecting wsproto>=0.14\n",
            "  Downloading wsproto-1.0.0-py3-none-any.whl (24 kB)\n",
            "Requirement already satisfied: certifi in /usr/local/lib/python3.7/dist-packages (from urllib3[secure]~=1.26->selenium) (2021.5.30)\n",
            "Collecting cryptography>=1.3.4\n",
            "  Downloading cryptography-35.0.0-cp36-abi3-manylinux_2_24_x86_64.whl (3.5 MB)\n",
            "\u001b[K     |████████████████████████████████| 3.5 MB 38.2 MB/s \n",
            "\u001b[?25hCollecting pyOpenSSL>=0.14\n",
            "  Downloading pyOpenSSL-21.0.0-py2.py3-none-any.whl (55 kB)\n",
            "\u001b[K     |████████████████████████████████| 55 kB 3.4 MB/s \n",
            "\u001b[?25hRequirement already satisfied: cffi>=1.12 in /usr/local/lib/python3.7/dist-packages (from cryptography>=1.3.4->urllib3[secure]~=1.26->selenium) (1.14.6)\n",
            "Requirement already satisfied: pycparser in /usr/local/lib/python3.7/dist-packages (from cffi>=1.12->cryptography>=1.3.4->urllib3[secure]~=1.26->selenium) (2.20)\n",
            "Requirement already satisfied: six>=1.5.2 in /usr/local/lib/python3.7/dist-packages (from pyOpenSSL>=0.14->urllib3[secure]~=1.26->selenium) (1.15.0)\n",
            "Collecting h11<1,>=0.9.0\n",
            "  Downloading h11-0.12.0-py3-none-any.whl (54 kB)\n",
            "\u001b[K     |████████████████████████████████| 54 kB 3.2 MB/s \n",
            "\u001b[?25hInstalling collected packages: sniffio, outcome, h11, cryptography, async-generator, wsproto, urllib3, trio, pyOpenSSL, trio-websocket, selenium\n",
            "  Attempting uninstall: urllib3\n",
            "    Found existing installation: urllib3 1.24.3\n",
            "    Uninstalling urllib3-1.24.3:\n",
            "      Successfully uninstalled urllib3-1.24.3\n",
            "\u001b[31mERROR: pip's dependency resolver does not currently take into account all the packages that are installed. This behaviour is the source of the following dependency conflicts.\n",
            "requests 2.23.0 requires urllib3!=1.25.0,!=1.25.1,<1.26,>=1.21.1, but you have urllib3 1.26.7 which is incompatible.\n",
            "datascience 0.10.6 requires folium==0.2.1, but you have folium 0.8.3 which is incompatible.\u001b[0m\n",
            "Successfully installed async-generator-1.10 cryptography-35.0.0 h11-0.12.0 outcome-1.1.0 pyOpenSSL-21.0.0 selenium-4.0.0 sniffio-1.2.0 trio-0.19.0 trio-websocket-0.9.2 urllib3-1.26.7 wsproto-1.0.0\n",
            "Get:1 http://security.ubuntu.com/ubuntu bionic-security InRelease [88.7 kB]\n",
            "Ign:2 https://developer.download.nvidia.com/compute/cuda/repos/ubuntu1804/x86_64  InRelease\n",
            "Get:3 https://cloud.r-project.org/bin/linux/ubuntu bionic-cran40/ InRelease [3,626 B]\n",
            "Hit:4 http://archive.ubuntu.com/ubuntu bionic InRelease\n",
            "Get:5 http://ppa.launchpad.net/c2d4u.team/c2d4u4.0+/ubuntu bionic InRelease [15.9 kB]\n",
            "Ign:6 https://developer.download.nvidia.com/compute/machine-learning/repos/ubuntu1804/x86_64  InRelease\n",
            "Get:7 https://developer.download.nvidia.com/compute/cuda/repos/ubuntu1804/x86_64  Release [696 B]\n",
            "Hit:8 https://developer.download.nvidia.com/compute/machine-learning/repos/ubuntu1804/x86_64  Release\n",
            "Get:9 https://developer.download.nvidia.com/compute/cuda/repos/ubuntu1804/x86_64  Release.gpg [836 B]\n",
            "Get:10 http://archive.ubuntu.com/ubuntu bionic-updates InRelease [88.7 kB]\n",
            "Get:11 https://cloud.r-project.org/bin/linux/ubuntu bionic-cran40/ Packages [69.5 kB]\n",
            "Hit:12 http://ppa.launchpad.net/cran/libgit2/ubuntu bionic InRelease\n",
            "Get:13 http://archive.ubuntu.com/ubuntu bionic-backports InRelease [74.6 kB]\n",
            "Get:14 http://ppa.launchpad.net/deadsnakes/ppa/ubuntu bionic InRelease [15.9 kB]\n",
            "Get:15 http://security.ubuntu.com/ubuntu bionic-security/restricted amd64 Packages [630 kB]\n",
            "Get:16 http://security.ubuntu.com/ubuntu bionic-security/main amd64 Packages [2,396 kB]\n",
            "Hit:17 http://ppa.launchpad.net/graphics-drivers/ppa/ubuntu bionic InRelease\n",
            "Get:18 http://security.ubuntu.com/ubuntu bionic-security/universe amd64 Packages [1,434 kB]\n",
            "Get:20 https://developer.download.nvidia.com/compute/cuda/repos/ubuntu1804/x86_64  Packages [753 kB]\n",
            "Get:21 http://ppa.launchpad.net/c2d4u.team/c2d4u4.0+/ubuntu bionic/main Sources [1,810 kB]\n",
            "Get:22 http://archive.ubuntu.com/ubuntu bionic-updates/universe amd64 Packages [2,213 kB]\n",
            "Get:23 http://archive.ubuntu.com/ubuntu bionic-updates/restricted amd64 Packages [665 kB]\n",
            "Get:24 http://ppa.launchpad.net/c2d4u.team/c2d4u4.0+/ubuntu bionic/main amd64 Packages [926 kB]\n",
            "Get:25 http://archive.ubuntu.com/ubuntu bionic-updates/main amd64 Packages [2,835 kB]\n",
            "Get:26 http://ppa.launchpad.net/deadsnakes/ppa/ubuntu bionic/main amd64 Packages [45.3 kB]\n",
            "Fetched 14.1 MB in 4s (3,716 kB/s)\n",
            "Reading package lists... Done\n",
            "Reading package lists... Done\n",
            "Building dependency tree       \n",
            "Reading state information... Done\n",
            "The following additional packages will be installed:\n",
            "  chromium-browser chromium-browser-l10n chromium-codecs-ffmpeg-extra\n",
            "Suggested packages:\n",
            "  webaccounts-chromium-extension unity-chromium-extension\n",
            "The following NEW packages will be installed:\n",
            "  chromium-browser chromium-browser-l10n chromium-chromedriver\n",
            "  chromium-codecs-ffmpeg-extra\n",
            "0 upgraded, 4 newly installed, 0 to remove and 70 not upgraded.\n",
            "Need to get 95.3 MB of archives.\n",
            "After this operation, 323 MB of additional disk space will be used.\n",
            "Get:1 http://archive.ubuntu.com/ubuntu bionic-updates/universe amd64 chromium-codecs-ffmpeg-extra amd64 94.0.4606.81-0ubuntu0.18.04.1 [1,135 kB]\n",
            "Get:2 http://archive.ubuntu.com/ubuntu bionic-updates/universe amd64 chromium-browser amd64 94.0.4606.81-0ubuntu0.18.04.1 [85.0 MB]\n",
            "Get:3 http://archive.ubuntu.com/ubuntu bionic-updates/universe amd64 chromium-browser-l10n all 94.0.4606.81-0ubuntu0.18.04.1 [4,164 kB]\n",
            "Get:4 http://archive.ubuntu.com/ubuntu bionic-updates/universe amd64 chromium-chromedriver amd64 94.0.4606.81-0ubuntu0.18.04.1 [4,963 kB]\n",
            "Fetched 95.3 MB in 4s (24.1 MB/s)\n",
            "Selecting previously unselected package chromium-codecs-ffmpeg-extra.\n",
            "(Reading database ... 155047 files and directories currently installed.)\n",
            "Preparing to unpack .../chromium-codecs-ffmpeg-extra_94.0.4606.81-0ubuntu0.18.04.1_amd64.deb ...\n",
            "Unpacking chromium-codecs-ffmpeg-extra (94.0.4606.81-0ubuntu0.18.04.1) ...\n",
            "Selecting previously unselected package chromium-browser.\n",
            "Preparing to unpack .../chromium-browser_94.0.4606.81-0ubuntu0.18.04.1_amd64.deb ...\n",
            "Unpacking chromium-browser (94.0.4606.81-0ubuntu0.18.04.1) ...\n",
            "Selecting previously unselected package chromium-browser-l10n.\n",
            "Preparing to unpack .../chromium-browser-l10n_94.0.4606.81-0ubuntu0.18.04.1_all.deb ...\n",
            "Unpacking chromium-browser-l10n (94.0.4606.81-0ubuntu0.18.04.1) ...\n",
            "Selecting previously unselected package chromium-chromedriver.\n",
            "Preparing to unpack .../chromium-chromedriver_94.0.4606.81-0ubuntu0.18.04.1_amd64.deb ...\n",
            "Unpacking chromium-chromedriver (94.0.4606.81-0ubuntu0.18.04.1) ...\n",
            "Setting up chromium-codecs-ffmpeg-extra (94.0.4606.81-0ubuntu0.18.04.1) ...\n",
            "Setting up chromium-browser (94.0.4606.81-0ubuntu0.18.04.1) ...\n",
            "update-alternatives: using /usr/bin/chromium-browser to provide /usr/bin/x-www-browser (x-www-browser) in auto mode\n",
            "update-alternatives: using /usr/bin/chromium-browser to provide /usr/bin/gnome-www-browser (gnome-www-browser) in auto mode\n",
            "Setting up chromium-chromedriver (94.0.4606.81-0ubuntu0.18.04.1) ...\n",
            "Setting up chromium-browser-l10n (94.0.4606.81-0ubuntu0.18.04.1) ...\n",
            "Processing triggers for man-db (2.8.3-2ubuntu0.1) ...\n",
            "Processing triggers for hicolor-icon-theme (0.17-2) ...\n",
            "Processing triggers for mime-support (3.60ubuntu1) ...\n",
            "Processing triggers for libc-bin (2.27-3ubuntu1.3) ...\n",
            "/sbin/ldconfig.real: /usr/local/lib/python3.7/dist-packages/ideep4py/lib/libmkldnn.so.0 is not a symbolic link\n",
            "\n",
            "cp: '/usr/lib/chromium-browser/chromedriver' and '/usr/bin/chromedriver' are the same file\n"
          ]
        }
      ]
    },
    {
      "cell_type": "markdown",
      "metadata": {
        "id": "3IEqwXlc3sVZ"
      },
      "source": [
        "# Lista de Sites Consultados\n",
        "A seguir é criada a lista de sites de farmácias onde os preços serão consultados.\n",
        "\n",
        "Previamente, a estrutura das páginas html de cada site foi analisada e foi mapeada uma expressão que retorna o valor do preço apresentado na página. Para coleta das informações das páginas será utilizado o framewrok Selenium Webdriver, originalmente criado para realização de testes simulando o comportamento de aplicações em navegadores. Posteriormente será simulada a abertura do site da farmácia em um browser para que os dados de interesse sejam extraídos da página html gerada."
      ]
    },
    {
      "cell_type": "code",
      "metadata": {
        "id": "c-sL-4uWOm5N"
      },
      "source": [
        "# Cria dicionario de Expressoes de Busca por site (\"site\":\"expressao de busca de preço na página\")\n",
        "dict_expressoes_preco = {}\n",
        "\n",
        "\n",
        "# Drogaria Venancio\n",
        "site = \"www.drogariavenancio.com.br\"\n",
        "expressao = \"wd.find_element_by_xpath('//*[@id=\\\"price-component\\\"]/div/div[1]/div/div/div/div/div/p/strong').text[3:]\"\n",
        "dict_expressoes_preco[site] = expressao\n",
        "\n",
        "# Drogaraia\n",
        "site = \"www.drogaraia.com.br\"\n",
        "expressao = \"wd.find_element_by_xpath('/html/body/div[13]/div/div[4]/div/div[4]/div[1]/div[2]/div/form/div[2]/div[2]/div/div[3]/div/div/label/div/div/span/p[2]/span/span[2]').text\"\n",
        "dict_expressoes_preco[site] = expressao\n",
        "\n",
        "# Pague Menos\n",
        "site = \"www.paguemenos.com.br\"\n",
        "expressao = \"wd.find_element_by_xpath('/html/body/div[2]/div/div[1]/div/div/div/div[3]/div/div[2]/div[1]/section/div/div[3]/div/div[2]/div/div/div[1]/div/div[2]/div/div[2]/span/span/span[3]').text + ',' + wd.find_element_by_xpath('/html/body/div[2]/div/div[1]/div/div/div/div[3]/div/div[2]/div[1]/section/div/div[3]/div/div[2]/div/div/div[1]/div/div[2]/div/div[2]/span/span/span[5]').text\"\n",
        "dict_expressoes_preco[site] = expressao\n",
        "\n",
        "# Drogaria Pacheco\n",
        "site = \"www.drogariaspacheco.com.br\"\n",
        "expressao = \"wd.find_element_by_xpath('//strong[@class=\\\"skuBestPrice\\\"]').text[3:]\"\n",
        "dict_expressoes_preco[site] = expressao\n",
        "\n",
        "# Farmadelivery\n",
        "site = \"www.farmadelivery.com.br\"\n",
        "expressao = \"wd.find_element_by_xpath('/html/body/div[2]/div/div[6]/div/div[2]/div[5]/div[1]/form/div[4]/div[1]/div[2]/div[1]/p[2]/span[2]').text[2:]\"\n",
        "dict_expressoes_preco[site] = expressao\n"
      ],
      "execution_count": 25,
      "outputs": []
    },
    {
      "cell_type": "markdown",
      "metadata": {
        "id": "V--JwPGAix2l"
      },
      "source": [
        "# Busca URLs\n",
        "\n",
        "A busca por URLs foi segregada para outro notebook para evitar excesso de acessos ao google. \n",
        "\n",
        "Aqui está sendo importado um arquivo .csv que já contenha as URLs levantadas para cada remedio."
      ]
    },
    {
      "cell_type": "code",
      "metadata": {
        "id": "Pusuh6MbfDsl"
      },
      "source": [
        "df_urls = pd.read_csv('/content/lista_URLs_2021-10-24.csv',usecols=[1,2])  \n",
        "\n"
      ],
      "execution_count": 26,
      "outputs": []
    },
    {
      "cell_type": "code",
      "metadata": {
        "colab": {
          "base_uri": "https://localhost:8080/"
        },
        "id": "TP-hP4RvhGZa",
        "outputId": "26e2c750-846c-447f-d936-f7a52d365195"
      },
      "source": [
        "print(df_urls.to_string())\n"
      ],
      "execution_count": 27,
      "outputs": [
        {
          "output_type": "stream",
          "name": "stdout",
          "text": [
            "                                  Remedio                                                                                                               Url\n",
            "0           Puran T4 75mcg 30 comprimidos                                https://www.drogariavenancio.com.br/Puran-T4-75mcg-Sanofi-Aventis-30-Comprimidos/p\n",
            "1           Puran T4 75mcg 30 comprimidos                                         https://www.drogaraia.com.br/puran-t4-75-mcg-uso-oral-30-comprimidos.html\n",
            "2           Puran T4 75mcg 30 comprimidos                                                 https://www.paguemenos.com.br/puran-t4-75mcg-com-30-comprimidos/p\n",
            "3           Puran T4 75mcg 30 comprimidos                                               https://www.drogariaspacheco.com.br/puran-t4-75mcg-30-comprimidos/p\n",
            "4           Puran T4 75mcg 30 comprimidos                                                  https://www.farmadelivery.com.br/puran-t4-75mcg-c-30-comprimidos\n",
            "5          Puran T4 88 mcg 30 comprimidos                                https://www.drogariavenancio.com.br/puran-t4-88mcg-sanofi-aventis-30-comprimidos/p\n",
            "6          Puran T4 88 mcg 30 comprimidos                                                   https://www.drogaraia.com.br/puran-t4-88mcg-30-comprimidos.html\n",
            "7          Puran T4 88 mcg 30 comprimidos                                                                                                                ND\n",
            "8          Puran T4 88 mcg 30 comprimidos                                https://www.drogariaspacheco.com.br/puran-t4-88mcg-sanofi-aventis-30-comprimidos/p\n",
            "9          Puran T4 88 mcg 30 comprimidos                                                  https://www.farmadelivery.com.br/puran-t4-88mcg-c-30-comprimidos\n",
            "10        Addera d3 7000 UI 4 comprimidos                           https://www.drogariavenancio.com.br/Addera-D3-7-000ui-Hypera-4-Comprimidos-Revestidos/p\n",
            "11        Addera d3 7000 UI 4 comprimidos                                   https://www.drogaraia.com.br/addera-d3-7000-ui-1-blister-com-4-comprimidos.html\n",
            "12        Addera d3 7000 UI 4 comprimidos                                                https://www.paguemenos.com.br/addera-d3-7000ui-com-4-comprimidos/p\n",
            "13        Addera d3 7000 UI 4 comprimidos                            https://www.drogariaspacheco.com.br/addera-d3-7000ui-mantecorp-farmasa-4-comprimidos/p\n",
            "14        Addera d3 7000 UI 4 comprimidos                                                 https://www.farmadelivery.com.br/addera-d3-7000ui-c-4-comprimidos\n",
            "15       Addera d3 7000 UI 10 comprimidos                          https://www.drogariavenancio.com.br/Addera-D3-7-000ui-Hypera-10-Comprimidos-Revestidos/p\n",
            "16       Addera d3 7000 UI 10 comprimidos                                     https://www.drogaraia.com.br/addera-d3-7000-ui-10-comprimidos-revestidos.html\n",
            "17       Addera d3 7000 UI 10 comprimidos                                              https://www.paguemenos.com.br/addera-d3-7000-ui-com-10-comprimidos/p\n",
            "18       Addera d3 7000 UI 10 comprimidos                                                                                                                ND\n",
            "19       Addera d3 7000 UI 10 comprimidos                                                https://www.farmadelivery.com.br/addera-d3-7000ui-c-10-comprimidos\n",
            "20       Addera d3 7000 UI 30 comprimidos                          https://www.drogariavenancio.com.br/Addera-D3-7-000ui-Hypera-30-Comprimidos-Revestidos/p\n",
            "21       Addera d3 7000 UI 30 comprimidos                                                https://www.drogaraia.com.br/addera-d3-7-000ui-30-comprimidos.html\n",
            "22       Addera d3 7000 UI 30 comprimidos                                             https://www.paguemenos.com.br/addera-d3-7-000-ui-com-30-comprimidos/p\n",
            "23       Addera d3 7000 UI 30 comprimidos                      https://www.drogariaspacheco.com.br/addera-d3-7000ui-30-comprimidos-revestidos-hypermarcas/p\n",
            "24       Addera d3 7000 UI 30 comprimidos                                                https://www.farmadelivery.com.br/addera-d3-7000ui-c-30-comprimidos\n",
            "25   Xigduo XR 10mg/1000mg 30 comprimidos  https://www.drogariavenancio.com.br/xigduo-xr-10mg---1000mg-astrazeneca-30-comprimidos-de-liberacao-prolongada/p\n",
            "26   Xigduo XR 10mg/1000mg 30 comprimidos                      https://www.drogaraia.com.br/xigduo-xr-10-1000mg-30-comprimidos-de-liberacao-prolongada.html\n",
            "27   Xigduo XR 10mg/1000mg 30 comprimidos                                          https://www.paguemenos.com.br/xigduo-xr-10mg-1000mg-com-30-comprimidos/p\n",
            "28   Xigduo XR 10mg/1000mg 30 comprimidos                          https://www.drogariaspacheco.com.br/xigduo-xr-10-mg-1000-mg-30-comprimidos-astrazeneca/p\n",
            "29   Xigduo XR 10mg/1000mg 30 comprimidos                                           https://www.farmadelivery.com.br/xigduo-xr-10mg-1000mg-c-30-comprimidos\n",
            "30              Livalo 2mg 30 comprimidos                                 https://www.drogariavenancio.com.br/livalo-2mg-biolab-30-comprimidos-revestidos/p\n",
            "31              Livalo 2mg 30 comprimidos                                        https://www.drogaraia.com.br/livalo-2mg-com-30-comprimidos-revestidos.html\n",
            "32              Livalo 2mg 30 comprimidos                                                     https://www.paguemenos.com.br/livalo-2mg-com-30-comprimidos/p\n",
            "33              Livalo 2mg 30 comprimidos                                 https://www.drogariaspacheco.com.br/livalo-2mg-biolab-30-comprimidos-revestidos/p\n",
            "34              Livalo 2mg 30 comprimidos                                                      https://www.farmadelivery.com.br/livalo-2mg-c-30-comprimidos\n",
            "35          Milgamma 150mg 30 comprimidos                                          https://www.drogariavenancio.com.br/milgamma-150-mg-farmasa-30-drageas/p\n",
            "36          Milgamma 150mg 30 comprimidos                                                   https://www.drogaraia.com.br/milgamma-150mg-com-30-drageas.html\n",
            "37          Milgamma 150mg 30 comprimidos                                                     https://www.paguemenos.com.br/milgamma-150mg-com-30-drageas/p\n",
            "38          Milgamma 150mg 30 comprimidos                                 https://www.drogariaspacheco.com.br/milgamma-150mg-mantecorp-farmasa-30-drageas/p\n",
            "39          Milgamma 150mg 30 comprimidos                                                      https://www.farmadelivery.com.br/milgamma-150mg-c-30-drageas\n",
            "40  Nesina pio 25mg + 30mg 30 comprimidos                     https://www.drogariavenancio.com.br/nesina-pio-25mg---30mg-takeda-30-comprimidos-revestidos/p\n",
            "41  Nesina pio 25mg + 30mg 30 comprimidos                                    https://www.drogaraia.com.br/nesina-pio-25-30mg-30-comprimidos-revestidos.html\n",
            "42  Nesina pio 25mg + 30mg 30 comprimidos                                        https://www.paguemenos.com.br/nesina-pio-25mgmais30mg-com-30-comprimidos/p\n",
            "43  Nesina pio 25mg + 30mg 30 comprimidos                       https://www.drogariaspacheco.com.br/nesina-pio-25mg-30mg-takeda-30-comprimidos-revestidos/p\n",
            "44  Nesina pio 25mg + 30mg 30 comprimidos                                            https://www.farmadelivery.com.br/nesina-pio-25mg-30mg-c-30-comprimidos\n",
            "45                            Ganfort 3ml                            https://www.drogariavenancio.com.br/ganfort-allergan-3ml-suspensao-oftalmica-esteril/p\n",
            "46                            Ganfort 3ml                                                    https://www.drogaraia.com.br/ganfort-solucao-esteril-3-ml.html\n",
            "47                            Ganfort 3ml                                                               https://www.paguemenos.com.br/ganfort-colirio-3ml/p\n",
            "48                            Ganfort 3ml                                        https://www.drogariaspacheco.com.br/ganfort-solucao-esteril-allergan-3ml/p\n",
            "49                            Ganfort 3ml                                            https://www.farmadelivery.com.br/ganfort-soluc-o-oftalmica-colirio-3ml\n",
            "50                            Ganfort 5ml                            https://www.drogariavenancio.com.br/ganfort-allergan-5ml-suspensao-oftalmica-esteril/p\n",
            "51                            Ganfort 5ml                                                    https://www.drogaraia.com.br/ganfort-solucao-esteril-5-ml.html\n",
            "52                            Ganfort 5ml                                                       https://www.paguemenos.com.br/ganfort-solucao-esteril-5ml/p\n",
            "53                            Ganfort 5ml                                                https://www.drogariaspacheco.com.br/ganfort-colirio-allergan-5ml/p\n",
            "54                            Ganfort 5ml                                            https://www.farmadelivery.com.br/ganfort-soluc-o-oftalmica-colirio-5ml\n",
            "55    Symbicort Spray 6/100 mcg 120 doses                                                                                                                ND\n",
            "56    Symbicort Spray 6/100 mcg 120 doses                               https://www.drogaraia.com.br/symbicort-spray-6-100-mcg-para-inalacao-120-doses.html\n",
            "57    Symbicort Spray 6/100 mcg 120 doses                                                                                                                ND\n",
            "58    Symbicort Spray 6/100 mcg 120 doses                     https://www.drogariaspacheco.com.br/symbicort-spray-6-mcg-100-mcg-com-120-doses-astrazeneca/p\n",
            "59    Symbicort Spray 6/100 mcg 120 doses                                                                                                                ND\n"
          ]
        }
      ]
    },
    {
      "cell_type": "markdown",
      "metadata": {
        "id": "eGK0V1tsMahx"
      },
      "source": [
        "#Cria e configura webdriver"
      ]
    },
    {
      "cell_type": "code",
      "metadata": {
        "id": "RwUkrSgXUJhR"
      },
      "source": [
        "#cria e configura webdriver\n",
        "wait_imp = 20\n",
        "chrome_options = webdriver.ChromeOptions()\n",
        "chrome_options.add_argument('--headless')\n",
        "chrome_options.add_argument('--no-sandbox')\n",
        "chrome_options.add_argument('--disable-dev-shm-usage')\n",
        "chrome_options.add_argument('ignore-certificate-errors')\n",
        "wd = webdriver.Chrome('chromedriver',options=chrome_options)"
      ],
      "execution_count": 28,
      "outputs": []
    },
    {
      "cell_type": "markdown",
      "metadata": {
        "id": "Gr832YCabKOV"
      },
      "source": [
        "# Coleta de informações\n",
        "\n",
        "Percorre cada um dos sites de farmácias mapeados extraindo a informação do preço atual disponível no site."
      ]
    },
    {
      "cell_type": "code",
      "metadata": {
        "id": "RHNM_rwDbJMx",
        "colab": {
          "base_uri": "https://localhost:8080/"
        },
        "outputId": "80ddf2af-a9be-4c5e-b5bb-06e148bd97ba"
      },
      "source": [
        "#Inicia array de precos\n",
        "precos = []\n",
        "\n",
        "#Percorre URLs coletando os precos\n",
        "for index, row in df_urls.iterrows():\n",
        "  remedio = row[\"Remedio\"]\n",
        "  url = row[\"Url\"]\n",
        "  print(url)\n",
        "  if(url == \"ND\"):\n",
        "    continue\n",
        "  wd.get(url)\n",
        "  wd.implicitly_wait(wait_imp)\n",
        "  site = url.split('/')[2]\n",
        "  try:\n",
        "    preco = eval(dict_expressoes_preco.get(site))\n",
        "  except:\n",
        "    preco = \"ND\"\n",
        "  precos.append([remedio,preco,site])\n",
        "\n",
        "print(precos)\n"
      ],
      "execution_count": 29,
      "outputs": [
        {
          "output_type": "stream",
          "name": "stdout",
          "text": [
            "https://www.drogariavenancio.com.br/Puran-T4-75mcg-Sanofi-Aventis-30-Comprimidos/p\n"
          ]
        },
        {
          "output_type": "stream",
          "name": "stderr",
          "text": [
            "/usr/local/lib/python3.7/dist-packages/ipykernel_launcher.py:1: DeprecationWarning: find_element_by_* commands are deprecated. Please use find_element() instead\n",
            "  \"\"\"Entry point for launching an IPython kernel.\n"
          ]
        },
        {
          "output_type": "stream",
          "name": "stdout",
          "text": [
            "https://www.drogaraia.com.br/puran-t4-75-mcg-uso-oral-30-comprimidos.html\n",
            "https://www.paguemenos.com.br/puran-t4-75mcg-com-30-comprimidos/p\n",
            "https://www.drogariaspacheco.com.br/puran-t4-75mcg-30-comprimidos/p\n",
            "https://www.farmadelivery.com.br/puran-t4-75mcg-c-30-comprimidos\n",
            "https://www.drogariavenancio.com.br/puran-t4-88mcg-sanofi-aventis-30-comprimidos/p\n",
            "https://www.drogaraia.com.br/puran-t4-88mcg-30-comprimidos.html\n",
            "ND\n",
            "https://www.drogariaspacheco.com.br/puran-t4-88mcg-sanofi-aventis-30-comprimidos/p\n",
            "https://www.farmadelivery.com.br/puran-t4-88mcg-c-30-comprimidos\n",
            "https://www.drogariavenancio.com.br/Addera-D3-7-000ui-Hypera-4-Comprimidos-Revestidos/p\n",
            "https://www.drogaraia.com.br/addera-d3-7000-ui-1-blister-com-4-comprimidos.html\n",
            "https://www.paguemenos.com.br/addera-d3-7000ui-com-4-comprimidos/p\n",
            "https://www.drogariaspacheco.com.br/addera-d3-7000ui-mantecorp-farmasa-4-comprimidos/p\n",
            "https://www.farmadelivery.com.br/addera-d3-7000ui-c-4-comprimidos\n",
            "https://www.drogariavenancio.com.br/Addera-D3-7-000ui-Hypera-10-Comprimidos-Revestidos/p\n",
            "https://www.drogaraia.com.br/addera-d3-7000-ui-10-comprimidos-revestidos.html\n",
            "https://www.paguemenos.com.br/addera-d3-7000-ui-com-10-comprimidos/p\n",
            "ND\n",
            "https://www.farmadelivery.com.br/addera-d3-7000ui-c-10-comprimidos\n",
            "https://www.drogariavenancio.com.br/Addera-D3-7-000ui-Hypera-30-Comprimidos-Revestidos/p\n",
            "https://www.drogaraia.com.br/addera-d3-7-000ui-30-comprimidos.html\n",
            "https://www.paguemenos.com.br/addera-d3-7-000-ui-com-30-comprimidos/p\n",
            "https://www.drogariaspacheco.com.br/addera-d3-7000ui-30-comprimidos-revestidos-hypermarcas/p\n",
            "https://www.farmadelivery.com.br/addera-d3-7000ui-c-30-comprimidos\n",
            "https://www.drogariavenancio.com.br/xigduo-xr-10mg---1000mg-astrazeneca-30-comprimidos-de-liberacao-prolongada/p\n",
            "https://www.drogaraia.com.br/xigduo-xr-10-1000mg-30-comprimidos-de-liberacao-prolongada.html\n",
            "https://www.paguemenos.com.br/xigduo-xr-10mg-1000mg-com-30-comprimidos/p\n",
            "https://www.drogariaspacheco.com.br/xigduo-xr-10-mg-1000-mg-30-comprimidos-astrazeneca/p\n",
            "https://www.farmadelivery.com.br/xigduo-xr-10mg-1000mg-c-30-comprimidos\n",
            "https://www.drogariavenancio.com.br/livalo-2mg-biolab-30-comprimidos-revestidos/p\n",
            "https://www.drogaraia.com.br/livalo-2mg-com-30-comprimidos-revestidos.html\n",
            "https://www.paguemenos.com.br/livalo-2mg-com-30-comprimidos/p\n",
            "https://www.drogariaspacheco.com.br/livalo-2mg-biolab-30-comprimidos-revestidos/p\n",
            "https://www.farmadelivery.com.br/livalo-2mg-c-30-comprimidos\n",
            "https://www.drogariavenancio.com.br/milgamma-150-mg-farmasa-30-drageas/p\n",
            "https://www.drogaraia.com.br/milgamma-150mg-com-30-drageas.html\n",
            "https://www.paguemenos.com.br/milgamma-150mg-com-30-drageas/p\n",
            "https://www.drogariaspacheco.com.br/milgamma-150mg-mantecorp-farmasa-30-drageas/p\n",
            "https://www.farmadelivery.com.br/milgamma-150mg-c-30-drageas\n",
            "https://www.drogariavenancio.com.br/nesina-pio-25mg---30mg-takeda-30-comprimidos-revestidos/p\n",
            "https://www.drogaraia.com.br/nesina-pio-25-30mg-30-comprimidos-revestidos.html\n",
            "https://www.paguemenos.com.br/nesina-pio-25mgmais30mg-com-30-comprimidos/p\n",
            "https://www.drogariaspacheco.com.br/nesina-pio-25mg-30mg-takeda-30-comprimidos-revestidos/p\n",
            "https://www.farmadelivery.com.br/nesina-pio-25mg-30mg-c-30-comprimidos\n",
            "https://www.drogariavenancio.com.br/ganfort-allergan-3ml-suspensao-oftalmica-esteril/p\n",
            "https://www.drogaraia.com.br/ganfort-solucao-esteril-3-ml.html\n",
            "https://www.paguemenos.com.br/ganfort-colirio-3ml/p\n",
            "https://www.drogariaspacheco.com.br/ganfort-solucao-esteril-allergan-3ml/p\n",
            "https://www.farmadelivery.com.br/ganfort-soluc-o-oftalmica-colirio-3ml\n",
            "https://www.drogariavenancio.com.br/ganfort-allergan-5ml-suspensao-oftalmica-esteril/p\n",
            "https://www.drogaraia.com.br/ganfort-solucao-esteril-5-ml.html\n",
            "https://www.paguemenos.com.br/ganfort-solucao-esteril-5ml/p\n",
            "https://www.drogariaspacheco.com.br/ganfort-colirio-allergan-5ml/p\n",
            "https://www.farmadelivery.com.br/ganfort-soluc-o-oftalmica-colirio-5ml\n",
            "ND\n",
            "https://www.drogaraia.com.br/symbicort-spray-6-100-mcg-para-inalacao-120-doses.html\n",
            "ND\n",
            "https://www.drogariaspacheco.com.br/symbicort-spray-6-mcg-100-mcg-com-120-doses-astrazeneca/p\n",
            "ND\n",
            "[['Puran T4 75mcg 30 comprimidos', '14,89', 'www.drogariavenancio.com.br'], ['Puran T4 75mcg 30 comprimidos', '15,06', 'www.drogaraia.com.br'], ['Puran T4 75mcg 30 comprimidos', '14,65', 'www.paguemenos.com.br'], ['Puran T4 75mcg 30 comprimidos', '14,80', 'www.drogariaspacheco.com.br'], ['Puran T4 75mcg 30 comprimidos', 'ND', 'www.farmadelivery.com.br'], ['Puran T4 88 mcg 30 comprimidos', '16,79', 'www.drogariavenancio.com.br'], ['Puran T4 88 mcg 30 comprimidos', '16,64', 'www.drogaraia.com.br'], ['Puran T4 88 mcg 30 comprimidos', '16,47', 'www.drogariaspacheco.com.br'], ['Puran T4 88 mcg 30 comprimidos', 'ND', 'www.farmadelivery.com.br'], ['Addera d3 7000 UI 4 comprimidos', '34,90', 'www.drogariavenancio.com.br'], ['Addera d3 7000 UI 4 comprimidos', '30,19', 'www.drogaraia.com.br'], ['Addera d3 7000 UI 4 comprimidos', '23,75', 'www.paguemenos.com.br'], ['Addera d3 7000 UI 4 comprimidos', '23,15', 'www.drogariaspacheco.com.br'], ['Addera d3 7000 UI 4 comprimidos', 'ND', 'www.farmadelivery.com.br'], ['Addera d3 7000 UI 10 comprimidos', '50,95', 'www.drogariavenancio.com.br'], ['Addera d3 7000 UI 10 comprimidos', '61,99', 'www.drogaraia.com.br'], ['Addera d3 7000 UI 10 comprimidos', '50,45', 'www.paguemenos.com.br'], ['Addera d3 7000 UI 10 comprimidos', 'ND', 'www.farmadelivery.com.br'], ['Addera d3 7000 UI 30 comprimidos', '78,74', 'www.drogariavenancio.com.br'], ['Addera d3 7000 UI 30 comprimidos', '96,88', 'www.drogaraia.com.br'], ['Addera d3 7000 UI 30 comprimidos', '96,25', 'www.paguemenos.com.br'], ['Addera d3 7000 UI 30 comprimidos', '96,88', 'www.drogariaspacheco.com.br'], ['Addera d3 7000 UI 30 comprimidos', 'ND', 'www.farmadelivery.com.br'], ['Xigduo XR 10mg/1000mg 30 comprimidos', '158,01', 'www.drogariavenancio.com.br'], ['Xigduo XR 10mg/1000mg 30 comprimidos', '155,99', 'www.drogaraia.com.br'], ['Xigduo XR 10mg/1000mg 30 comprimidos', '149,55', 'www.paguemenos.com.br'], ['Xigduo XR 10mg/1000mg 30 comprimidos', '158,90', 'www.drogariaspacheco.com.br'], ['Xigduo XR 10mg/1000mg 30 comprimidos', 'ND', 'www.farmadelivery.com.br'], ['Livalo 2mg 30 comprimidos', '99,95', 'www.drogariavenancio.com.br'], ['Livalo 2mg 30 comprimidos', '95,49', 'www.drogaraia.com.br'], ['Livalo 2mg 30 comprimidos', '92,65', 'www.paguemenos.com.br'], ['Livalo 2mg 30 comprimidos', '98,95', 'www.drogariaspacheco.com.br'], ['Livalo 2mg 30 comprimidos', 'ND', 'www.farmadelivery.com.br'], ['Milgamma 150mg 30 comprimidos', '63,29', 'www.drogariavenancio.com.br'], ['Milgamma 150mg 30 comprimidos', '59,99', 'www.drogaraia.com.br'], ['Milgamma 150mg 30 comprimidos', '56,15', 'www.paguemenos.com.br'], ['Milgamma 150mg 30 comprimidos', '59,39', 'www.drogariaspacheco.com.br'], ['Milgamma 150mg 30 comprimidos', 'ND', 'www.farmadelivery.com.br'], ['Nesina pio 25mg + 30mg 30 comprimidos', '159,99', 'www.drogariavenancio.com.br'], ['Nesina pio 25mg + 30mg 30 comprimidos', 'ND', 'www.drogaraia.com.br'], ['Nesina pio 25mg + 30mg 30 comprimidos', '141,75', 'www.paguemenos.com.br'], ['Nesina pio 25mg + 30mg 30 comprimidos', '158,39', 'www.drogariaspacheco.com.br'], ['Nesina pio 25mg + 30mg 30 comprimidos', 'ND', 'www.farmadelivery.com.br'], ['Ganfort 3ml', '126,59', 'www.drogariavenancio.com.br'], ['Ganfort 3ml', '116,99', 'www.drogaraia.com.br'], ['Ganfort 3ml', '117,85', 'www.paguemenos.com.br'], ['Ganfort 3ml', '115,82', 'www.drogariaspacheco.com.br'], ['Ganfort 3ml', '116,92', 'www.farmadelivery.com.br'], ['Ganfort 5ml', '206,09', 'www.drogariavenancio.com.br'], ['Ganfort 5ml', '191,99', 'www.drogaraia.com.br'], ['Ganfort 5ml', '191,55', 'www.paguemenos.com.br'], ['Ganfort 5ml', '190,07', 'www.drogariaspacheco.com.br'], ['Ganfort 5ml', '188,27', 'www.farmadelivery.com.br'], ['Symbicort Spray 6/100 mcg 120 doses', 'ND', 'www.drogaraia.com.br'], ['Symbicort Spray 6/100 mcg 120 doses', '146,89', 'www.drogariaspacheco.com.br']]\n"
          ]
        }
      ]
    },
    {
      "cell_type": "markdown",
      "metadata": {
        "id": "yaOnmp2z2hiA"
      },
      "source": [
        "Cria Pandas Dataframe"
      ]
    },
    {
      "cell_type": "code",
      "metadata": {
        "colab": {
          "base_uri": "https://localhost:8080/"
        },
        "id": "jSH8EocUgy79",
        "outputId": "d209f76f-5b97-42d8-8790-47ffae2c9c67"
      },
      "source": [
        "df_precos = pd.DataFrame(precos, columns =['Remedio','Preco', 'Fonte']) \n",
        "print(df_precos)"
      ],
      "execution_count": 30,
      "outputs": [
        {
          "output_type": "stream",
          "name": "stdout",
          "text": [
            "                                  Remedio   Preco                        Fonte\n",
            "0           Puran T4 75mcg 30 comprimidos   14,89  www.drogariavenancio.com.br\n",
            "1           Puran T4 75mcg 30 comprimidos   15,06         www.drogaraia.com.br\n",
            "2           Puran T4 75mcg 30 comprimidos   14,65        www.paguemenos.com.br\n",
            "3           Puran T4 75mcg 30 comprimidos   14,80  www.drogariaspacheco.com.br\n",
            "4           Puran T4 75mcg 30 comprimidos      ND     www.farmadelivery.com.br\n",
            "5          Puran T4 88 mcg 30 comprimidos   16,79  www.drogariavenancio.com.br\n",
            "6          Puran T4 88 mcg 30 comprimidos   16,64         www.drogaraia.com.br\n",
            "7          Puran T4 88 mcg 30 comprimidos   16,47  www.drogariaspacheco.com.br\n",
            "8          Puran T4 88 mcg 30 comprimidos      ND     www.farmadelivery.com.br\n",
            "9         Addera d3 7000 UI 4 comprimidos   34,90  www.drogariavenancio.com.br\n",
            "10        Addera d3 7000 UI 4 comprimidos   30,19         www.drogaraia.com.br\n",
            "11        Addera d3 7000 UI 4 comprimidos   23,75        www.paguemenos.com.br\n",
            "12        Addera d3 7000 UI 4 comprimidos   23,15  www.drogariaspacheco.com.br\n",
            "13        Addera d3 7000 UI 4 comprimidos      ND     www.farmadelivery.com.br\n",
            "14       Addera d3 7000 UI 10 comprimidos   50,95  www.drogariavenancio.com.br\n",
            "15       Addera d3 7000 UI 10 comprimidos   61,99         www.drogaraia.com.br\n",
            "16       Addera d3 7000 UI 10 comprimidos   50,45        www.paguemenos.com.br\n",
            "17       Addera d3 7000 UI 10 comprimidos      ND     www.farmadelivery.com.br\n",
            "18       Addera d3 7000 UI 30 comprimidos   78,74  www.drogariavenancio.com.br\n",
            "19       Addera d3 7000 UI 30 comprimidos   96,88         www.drogaraia.com.br\n",
            "20       Addera d3 7000 UI 30 comprimidos   96,25        www.paguemenos.com.br\n",
            "21       Addera d3 7000 UI 30 comprimidos   96,88  www.drogariaspacheco.com.br\n",
            "22       Addera d3 7000 UI 30 comprimidos      ND     www.farmadelivery.com.br\n",
            "23   Xigduo XR 10mg/1000mg 30 comprimidos  158,01  www.drogariavenancio.com.br\n",
            "24   Xigduo XR 10mg/1000mg 30 comprimidos  155,99         www.drogaraia.com.br\n",
            "25   Xigduo XR 10mg/1000mg 30 comprimidos  149,55        www.paguemenos.com.br\n",
            "26   Xigduo XR 10mg/1000mg 30 comprimidos  158,90  www.drogariaspacheco.com.br\n",
            "27   Xigduo XR 10mg/1000mg 30 comprimidos      ND     www.farmadelivery.com.br\n",
            "28              Livalo 2mg 30 comprimidos   99,95  www.drogariavenancio.com.br\n",
            "29              Livalo 2mg 30 comprimidos   95,49         www.drogaraia.com.br\n",
            "30              Livalo 2mg 30 comprimidos   92,65        www.paguemenos.com.br\n",
            "31              Livalo 2mg 30 comprimidos   98,95  www.drogariaspacheco.com.br\n",
            "32              Livalo 2mg 30 comprimidos      ND     www.farmadelivery.com.br\n",
            "33          Milgamma 150mg 30 comprimidos   63,29  www.drogariavenancio.com.br\n",
            "34          Milgamma 150mg 30 comprimidos   59,99         www.drogaraia.com.br\n",
            "35          Milgamma 150mg 30 comprimidos   56,15        www.paguemenos.com.br\n",
            "36          Milgamma 150mg 30 comprimidos   59,39  www.drogariaspacheco.com.br\n",
            "37          Milgamma 150mg 30 comprimidos      ND     www.farmadelivery.com.br\n",
            "38  Nesina pio 25mg + 30mg 30 comprimidos  159,99  www.drogariavenancio.com.br\n",
            "39  Nesina pio 25mg + 30mg 30 comprimidos      ND         www.drogaraia.com.br\n",
            "40  Nesina pio 25mg + 30mg 30 comprimidos  141,75        www.paguemenos.com.br\n",
            "41  Nesina pio 25mg + 30mg 30 comprimidos  158,39  www.drogariaspacheco.com.br\n",
            "42  Nesina pio 25mg + 30mg 30 comprimidos      ND     www.farmadelivery.com.br\n",
            "43                            Ganfort 3ml  126,59  www.drogariavenancio.com.br\n",
            "44                            Ganfort 3ml  116,99         www.drogaraia.com.br\n",
            "45                            Ganfort 3ml  117,85        www.paguemenos.com.br\n",
            "46                            Ganfort 3ml  115,82  www.drogariaspacheco.com.br\n",
            "47                            Ganfort 3ml  116,92     www.farmadelivery.com.br\n",
            "48                            Ganfort 5ml  206,09  www.drogariavenancio.com.br\n",
            "49                            Ganfort 5ml  191,99         www.drogaraia.com.br\n",
            "50                            Ganfort 5ml  191,55        www.paguemenos.com.br\n",
            "51                            Ganfort 5ml  190,07  www.drogariaspacheco.com.br\n",
            "52                            Ganfort 5ml  188,27     www.farmadelivery.com.br\n",
            "53    Symbicort Spray 6/100 mcg 120 doses      ND         www.drogaraia.com.br\n",
            "54    Symbicort Spray 6/100 mcg 120 doses  146,89  www.drogariaspacheco.com.br\n"
          ]
        }
      ]
    },
    {
      "cell_type": "markdown",
      "metadata": {
        "id": "i5uiFAua5Dz7"
      },
      "source": [
        "Transforma os preços em colunas por Farmácia"
      ]
    },
    {
      "cell_type": "code",
      "metadata": {
        "id": "li21i0Lvwnyk",
        "colab": {
          "base_uri": "https://localhost:8080/"
        },
        "outputId": "1efd1ab8-9eb6-49e9-a98a-f4ab20779406"
      },
      "source": [
        "df_precos = df_precos.groupby(['Remedio','Fonte'])['Preco'].first().unstack()\n",
        "\n",
        "print(df_precos)"
      ],
      "execution_count": 31,
      "outputs": [
        {
          "output_type": "stream",
          "name": "stdout",
          "text": [
            "Fonte                                 www.drogaraia.com.br  ... www.paguemenos.com.br\n",
            "Remedio                                                     ...                      \n",
            "Addera d3 7000 UI 10 comprimidos                     61,99  ...                 50,45\n",
            "Addera d3 7000 UI 30 comprimidos                     96,88  ...                 96,25\n",
            "Addera d3 7000 UI 4 comprimidos                      30,19  ...                 23,75\n",
            "Ganfort 3ml                                         116,99  ...                117,85\n",
            "Ganfort 5ml                                         191,99  ...                191,55\n",
            "Livalo 2mg 30 comprimidos                            95,49  ...                 92,65\n",
            "Milgamma 150mg 30 comprimidos                        59,99  ...                 56,15\n",
            "Nesina pio 25mg + 30mg 30 comprimidos                   ND  ...                141,75\n",
            "Puran T4 75mcg 30 comprimidos                        15,06  ...                 14,65\n",
            "Puran T4 88 mcg 30 comprimidos                       16,64  ...                   NaN\n",
            "Symbicort Spray 6/100 mcg 120 doses                     ND  ...                   NaN\n",
            "Xigduo XR 10mg/1000mg 30 comprimidos                155,99  ...                149,55\n",
            "\n",
            "[12 rows x 5 columns]\n"
          ]
        }
      ]
    },
    {
      "cell_type": "markdown",
      "metadata": {
        "id": "jesihLdq3o9w"
      },
      "source": [
        "Salva em um arquivo (.csv)"
      ]
    },
    {
      "cell_type": "code",
      "metadata": {
        "id": "RvYNBzz_1kFU"
      },
      "source": [
        "data = datetime.now().strftime(\"%Y-%m-%d\")\n",
        "df_precos.to_csv('lista_Precos_' + data + '.csv')"
      ],
      "execution_count": 32,
      "outputs": []
    },
    {
      "cell_type": "code",
      "metadata": {
        "id": "VARRlk3s3mwI"
      },
      "source": [
        ""
      ],
      "execution_count": null,
      "outputs": []
    }
  ]
}